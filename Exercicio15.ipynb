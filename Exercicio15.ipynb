{
  "nbformat": 4,
  "nbformat_minor": 0,
  "metadata": {
    "colab": {
      "provenance": [],
      "authorship_tag": "ABX9TyNxoQH0e7c6C3Wn67hxiwdJ",
      "include_colab_link": true
    },
    "kernelspec": {
      "name": "python3",
      "display_name": "Python 3"
    },
    "language_info": {
      "name": "python"
    }
  },
  "cells": [
    {
      "cell_type": "markdown",
      "metadata": {
        "id": "view-in-github",
        "colab_type": "text"
      },
      "source": [
        "<a href=\"https://colab.research.google.com/github/Lucifbs/Html_CSS_JS-Wyden/blob/main/Exercicio15.ipynb\" target=\"_parent\"><img src=\"https://colab.research.google.com/assets/colab-badge.svg\" alt=\"Open In Colab\"/></a>"
      ]
    },
    {
      "cell_type": "code",
      "execution_count": 2,
      "metadata": {
        "colab": {
          "base_uri": "https://localhost:8080/"
        },
        "id": "wHoADfw-n2Gd",
        "outputId": "d18b18a2-0340-4dab-ae2e-4b2fd0044a98"
      },
      "outputs": [
        {
          "output_type": "stream",
          "name": "stdout",
          "text": [
            "Informe o valor que você ganha por hora: 73\n",
            "Informe o número de horas trabalhadas no mês: 220\n",
            "Salário Bruto: R$ 16060.00\n",
            "IR (11%): R$ 1766.60\n",
            "INSS (8%): R$ 1284.80\n",
            "Sindicato (5%): R$ 803.00\n",
            "Salário Líquido: R$ 12205.60\n"
          ]
        }
      ],
      "source": [
        "# Solicita o valor da hora e o número de horas trabalhadas no mês\n",
        "valor_hora = float(input(\"Informe o valor que você ganha por hora: \"))\n",
        "horas_trabalhadas = float(input(\"Informe o número de horas trabalhadas no mês: \"))\n",
        "\n",
        "# Calcula o salário bruto\n",
        "salario_bruto = valor_hora * horas_trabalhadas\n",
        "\n",
        "# Calcula os descontos\n",
        "imposto_renda = salario_bruto * 0.11\n",
        "inss = salario_bruto * 0.08\n",
        "sindicato = salario_bruto * 0.05\n",
        "\n",
        "# Calcula o salário líquido\n",
        "salario_liquido = salario_bruto - (imposto_renda + inss + sindicato)\n",
        "\n",
        "# Exibe os resultados\n",
        "print(f\"Salário Bruto: R$ {salario_bruto:.2f}\")\n",
        "print(f\"IR (11%): R$ {imposto_renda:.2f}\")\n",
        "print(f\"INSS (8%): R$ {inss:.2f}\")\n",
        "print(f\"Sindicato (5%): R$ {sindicato:.2f}\")\n",
        "print(f\"Salário Líquido: R$ {salario_liquido:.2f}\")"
      ]
    }
  ]
}