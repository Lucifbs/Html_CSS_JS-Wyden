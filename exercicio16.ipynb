{
  "nbformat": 4,
  "nbformat_minor": 0,
  "metadata": {
    "colab": {
      "provenance": [],
      "authorship_tag": "ABX9TyMu2B5AUOgOD5ZG6RA8P0IF",
      "include_colab_link": true
    },
    "kernelspec": {
      "name": "python3",
      "display_name": "Python 3"
    },
    "language_info": {
      "name": "python"
    }
  },
  "cells": [
    {
      "cell_type": "markdown",
      "metadata": {
        "id": "view-in-github",
        "colab_type": "text"
      },
      "source": [
        "<a href=\"https://colab.research.google.com/github/Lucifbs/Html_CSS_JS-Wyden/blob/main/exercicio16.ipynb\" target=\"_parent\"><img src=\"https://colab.research.google.com/assets/colab-badge.svg\" alt=\"Open In Colab\"/></a>"
      ]
    },
    {
      "cell_type": "code",
      "execution_count": 4,
      "metadata": {
        "colab": {
          "base_uri": "https://localhost:8080/"
        },
        "id": "utIfUw7HoxsK",
        "outputId": "dcce988a-d013-4e6c-8336-c1cbe95d3492"
      },
      "outputs": [
        {
          "output_type": "stream",
          "name": "stdout",
          "text": [
            "Informe o tamanho da área a ser pintada (em metros quadrados): 11\n",
            "Quantidade de latas de tinta a serem compradas: 1\n",
            "Preço total: R$ 80.00\n"
          ]
        }
      ],
      "source": [
        "# Solicita o tamanho da área a ser pintada em metros quadrados\n",
        "area_a_pintar = float(input(\"Informe o tamanho da área a ser pintada (em metros quadrados): \"))\n",
        "\n",
        "# Define a cobertura de tinta em metros quadrados por litro\n",
        "cobertura_por_litro = 3\n",
        "\n",
        "# Calcula a quantidade de litros de tinta necessária\n",
        "litros_necessarios = area_a_pintar / cobertura_por_litro\n",
        "\n",
        "# Define o tamanho da lata de tinta em litros e o preço por lata\n",
        "litros_por_lata = 18\n",
        "preco_por_lata = 80.00\n",
        "\n",
        "# Calcula a quantidade de latas de tinta necessárias\n",
        "quantidade_latas = int(litros_necessarios / litros_por_lata)\n",
        "\n",
        "# Se houver litros restantes após comprar latas inteiras, adiciona uma lata adicional\n",
        "if litros_necessarios % litros_por_lata != 0:\n",
        "    quantidade_latas += 1\n",
        "\n",
        "# Calcula o preço total\n",
        "preco_total = quantidade_latas * preco_por_lata\n",
        "\n",
        "# Exibe os resultados\n",
        "print(f\"Quantidade de latas de tinta a serem compradas: {quantidade_latas}\")\n",
        "print(f\"Preço total: R$ {preco_total:.2f}\")\n"
      ]
    }
  ]
}