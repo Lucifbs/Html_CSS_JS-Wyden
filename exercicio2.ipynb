{
  "nbformat": 4,
  "nbformat_minor": 0,
  "metadata": {
    "colab": {
      "provenance": [],
      "authorship_tag": "ABX9TyNe1pnSTP+4qqblCmcV3Gax",
      "include_colab_link": true
    },
    "kernelspec": {
      "name": "python3",
      "display_name": "Python 3"
    },
    "language_info": {
      "name": "python"
    }
  },
  "cells": [
    {
      "cell_type": "markdown",
      "metadata": {
        "id": "view-in-github",
        "colab_type": "text"
      },
      "source": [
        "<a href=\"https://colab.research.google.com/github/Lucifbs/Html_CSS_JS-Wyden/blob/main/exercicio2.ipynb\" target=\"_parent\"><img src=\"https://colab.research.google.com/assets/colab-badge.svg\" alt=\"Open In Colab\"/></a>"
      ]
    },
    {
      "cell_type": "code",
      "execution_count": 3,
      "metadata": {
        "colab": {
          "base_uri": "https://localhost:8080/"
        },
        "id": "B5KToijBfZ7d",
        "outputId": "8327ec15-a030-4943-c8af-7cadf512448c"
      },
      "outputs": [
        {
          "output_type": "stream",
          "name": "stdout",
          "text": [
            "True\n",
            "False\n",
            "False\n"
          ]
        }
      ],
      "source": [
        "\"\"\"\n",
        "print(4/2)+4/2 # = 4.0\n",
        "print (4/2+4/2) # = 4.0\n",
        "print(4/(2+2)/4) # = 0.25\n",
        "print(4/2+2/4) # = 2.5\n",
        "\n",
        "print ((4+2)*2-4) # = 8\n",
        "print(4+2*2-4) # = 4\n",
        "\n",
        "\"\"\"\n",
        "print((4/2)+(4/2) == 4/2+4/2)\n",
        "print(4/(2+2)/4 == 4/2+2/4)\n",
        "print ((4+2)*2-4 == 4+2*2-4)"
      ]
    }
  ]
}