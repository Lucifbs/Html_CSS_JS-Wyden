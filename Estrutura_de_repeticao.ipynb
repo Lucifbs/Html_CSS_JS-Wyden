{
  "nbformat": 4,
  "nbformat_minor": 0,
  "metadata": {
    "colab": {
      "provenance": [],
      "authorship_tag": "ABX9TyO1LlSLNHWivMBG9Ad7F0QF",
      "include_colab_link": true
    },
    "kernelspec": {
      "name": "python3",
      "display_name": "Python 3"
    },
    "language_info": {
      "name": "python"
    }
  },
  "cells": [
    {
      "cell_type": "markdown",
      "metadata": {
        "id": "view-in-github",
        "colab_type": "text"
      },
      "source": [
        "<a href=\"https://colab.research.google.com/github/Lucifbs/Html_CSS_JS-Wyden/blob/main/Estrutura_de_repeticao.ipynb\" target=\"_parent\"><img src=\"https://colab.research.google.com/assets/colab-badge.svg\" alt=\"Open In Colab\"/></a>"
      ]
    },
    {
      "cell_type": "code",
      "execution_count": 3,
      "metadata": {
        "colab": {
          "base_uri": "https://localhost:8080/"
        },
        "id": "60aInZKhhGSf",
        "outputId": "21169f41-8de9-4ef6-863f-361b7cb5d9b8"
      },
      "outputs": [
        {
          "output_type": "stream",
          "name": "stdout",
          "text": [
            "Digite uma nota entre zero e dez: 11\n",
            "Valor inválido. A nota deve estar entre zero e dez.\n",
            "Digite uma nota entre zero e dez: 8\n",
            "Você digitou a nota 8.0.\n"
          ]
        }
      ],
      "source": [
        "while True:\n",
        "    nota = float(input(\"Digite uma nota entre zero e dez: \"))\n",
        "\n",
        "    if 0 <= nota <= 10:\n",
        "        break\n",
        "    else:\n",
        "        print(\"Valor inválido. A nota deve estar entre zero e dez.\")\n",
        "\n",
        "print(f\"Você digitou a nota {nota}.\")\n"
      ]
    },
    {
      "cell_type": "code",
      "source": [
        "while True:\n",
        "    usuario = input(\"Digite seu nome de usuário: \")\n",
        "    senha = input(\"Digite sua senha: \")\n",
        "\n",
        "    if usuario == senha:\n",
        "        print(\"Erro: A senha não pode ser igual ao nome de usuário. Tente novamente.\")\n",
        "    else:\n",
        "        print(\"Cadastro concluído com sucesso.\")\n",
        "        break\n"
      ],
      "metadata": {
        "colab": {
          "base_uri": "https://localhost:8080/"
        },
        "id": "HyBzyiFviZox",
        "outputId": "7bf2ee2e-ff7b-4b67-c3f7-c178c9cdb845"
      },
      "execution_count": 4,
      "outputs": [
        {
          "output_type": "stream",
          "name": "stdout",
          "text": [
            "Digite seu nome de usuário: lulu\n",
            "Digite sua senha: lulu\n",
            "Erro: A senha não pode ser igual ao nome de usuário. Tente novamente.\n",
            "Digite seu nome de usuário: lulu\n",
            "Digite sua senha: lu123\n",
            "Cadastro concluído com sucesso.\n"
          ]
        }
      ]
    }
  ]
}