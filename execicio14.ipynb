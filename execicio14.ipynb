{
  "nbformat": 4,
  "nbformat_minor": 0,
  "metadata": {
    "colab": {
      "provenance": [],
      "authorship_tag": "ABX9TyOcuRLVXJTX30EGArITHQmr",
      "include_colab_link": true
    },
    "kernelspec": {
      "name": "python3",
      "display_name": "Python 3"
    },
    "language_info": {
      "name": "python"
    }
  },
  "cells": [
    {
      "cell_type": "markdown",
      "metadata": {
        "id": "view-in-github",
        "colab_type": "text"
      },
      "source": [
        "<a href=\"https://colab.research.google.com/github/Lucifbs/Html_CSS_JS-Wyden/blob/main/execicio14.ipynb\" target=\"_parent\"><img src=\"https://colab.research.google.com/assets/colab-badge.svg\" alt=\"Open In Colab\"/></a>"
      ]
    },
    {
      "cell_type": "code",
      "execution_count": 2,
      "metadata": {
        "colab": {
          "base_uri": "https://localhost:8080/"
        },
        "id": "WNHSqF9-jdTU",
        "outputId": "4f0b4964-4bfb-457d-c003-6601d6a6354c"
      },
      "outputs": [
        {
          "output_type": "stream",
          "name": "stdout",
          "text": [
            "Informe o peso de peixes (em quilos): 95\n",
            "Peso excedente: 45.00 quilos\n",
            "Valor da multa a ser paga: R$ 180.00\n"
          ]
        }
      ],
      "source": [
        "# Lê o peso de peixes informado pelo usuário\n",
        "peso = float(input(\"Informe o peso de peixes (em quilos): \"))\n",
        "\n",
        "# Define o limite de peso estabelecido pelo regulamento\n",
        "limite = 50.0\n",
        "\n",
        "# Calcula o excesso de peso, se houver\n",
        "if peso > limite:\n",
        "    excesso = peso - limite\n",
        "    multa = excesso * 4.0  # Calcula a multa (R$ 4,00 por quilo excedente)\n",
        "else:\n",
        "    excesso = 0\n",
        "    multa = 0\n",
        "\n",
        "# Exibe os resultados\n",
        "if excesso > 0:\n",
        "    print(f\"Peso excedente: {excesso:.2f} quilos\")\n",
        "    print(f\"Valor da multa a ser paga: R$ {multa:.2f}\")\n",
        "else:\n",
        "    print(\"Peso dentro do limite permitido. Nenhuma multa é devida.\")"
      ]
    }
  ]
}