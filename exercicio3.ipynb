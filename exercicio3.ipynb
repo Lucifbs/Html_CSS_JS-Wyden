{
  "nbformat": 4,
  "nbformat_minor": 0,
  "metadata": {
    "colab": {
      "provenance": [],
      "authorship_tag": "ABX9TyM20Mwc8RcnqChAU59s+fgQ",
      "include_colab_link": true
    },
    "kernelspec": {
      "name": "python3",
      "display_name": "Python 3"
    },
    "language_info": {
      "name": "python"
    }
  },
  "cells": [
    {
      "cell_type": "markdown",
      "metadata": {
        "id": "view-in-github",
        "colab_type": "text"
      },
      "source": [
        "<a href=\"https://colab.research.google.com/github/Lucifbs/Html_CSS_JS-Wyden/blob/main/exercicio3.ipynb\" target=\"_parent\"><img src=\"https://colab.research.google.com/assets/colab-badge.svg\" alt=\"Open In Colab\"/></a>"
      ]
    },
    {
      "cell_type": "code",
      "execution_count": 3,
      "metadata": {
        "colab": {
          "base_uri": "https://localhost:8080/"
        },
        "id": "ILMZa5JlhzVr",
        "outputId": "2946eb04-4dcf-45f1-f075-268dc41ce410"
      },
      "outputs": [
        {
          "output_type": "stream",
          "name": "stdout",
          "text": [
            "digite um numero:3\n",
            "o antecessor de 3 e 2\n"
          ]
        }
      ],
      "source": [
        "valor = input(\"digite um numero:\")\n",
        "antecessor = int(valor) - 1\n",
        "print(f'o antecessor de {valor} e {antecessor}')"
      ]
    }
  ]
}