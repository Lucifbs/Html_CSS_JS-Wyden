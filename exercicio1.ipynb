{
  "nbformat": 4,
  "nbformat_minor": 0,
  "metadata": {
    "colab": {
      "provenance": [],
      "authorship_tag": "ABX9TyMw+J9EeasgMQk38QEvynzA",
      "include_colab_link": true
    },
    "kernelspec": {
      "name": "python3",
      "display_name": "Python 3"
    },
    "language_info": {
      "name": "python"
    }
  },
  "cells": [
    {
      "cell_type": "markdown",
      "metadata": {
        "id": "view-in-github",
        "colab_type": "text"
      },
      "source": [
        "<a href=\"https://colab.research.google.com/github/Lucifbs/Html_CSS_JS-Wyden/blob/main/exercicio1.ipynb\" target=\"_parent\"><img src=\"https://colab.research.google.com/assets/colab-badge.svg\" alt=\"Open In Colab\"/></a>"
      ]
    },
    {
      "cell_type": "code",
      "execution_count": null,
      "metadata": {
        "colab": {
          "base_uri": "https://localhost:8080/"
        },
        "id": "9qKRTWK_d3RR",
        "outputId": "daf66642-0f8b-432b-8de4-a1faa98cfa6c"
      },
      "outputs": [
        {
          "output_type": "stream",
          "name": "stdout",
          "text": [
            "valor atual de a\n",
            "valor atual de b\n",
            "valor de a apos conversao:20\n",
            "valor de b apos conversao10\n"
          ]
        }
      ],
      "source": [
        "a = 10\n",
        "b = 20\n",
        "print(f'valor atual de a')\n",
        "print(f'valor atual de b')\n",
        "\n",
        "c = a\n",
        "\n",
        "a = b\n",
        "b = c\n",
        "print(f'valor de a apos conversao:{a}')\n",
        "print(f'valor de b apos conversao{b}')"
      ]
    }
  ]
}